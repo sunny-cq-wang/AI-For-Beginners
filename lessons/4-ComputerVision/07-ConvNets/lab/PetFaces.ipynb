{
 "cells": [
  {
   "cell_type": "markdown",
   "metadata": {},
   "source": [
    "# Classification of Pet's Faces\n",
    "\n",
    "Lab Assignment from [AI for Beginners Curriculum](https://github.com/microsoft/ai-for-beginners).\n",
    "\n",
    "### Getting the Data\n",
    "\n",
    "In this assignment, we will focus on relatively simple classification task - classification of pet's faces. This dataset consists of cut-out faces from [Oxford-IIIT Dataset](https://www.robots.ox.ac.uk/~vgg/data/pets/). Let's start by loading and visualizing the dataset."
   ]
  },
  {
   "cell_type": "code",
   "execution_count": 5,
   "metadata": {},
   "outputs": [
    {
     "name": "stdout",
     "output_type": "stream",
     "text": [
      "Collecting kaggle\n",
      "  Downloading kaggle-1.7.4.5-py3-none-any.whl.metadata (16 kB)\n",
      "Requirement already satisfied: bleach in c:\\users\\sophi\\.conda\\envs\\ai4beg\\lib\\site-packages (from kaggle) (6.2.0)\n",
      "Requirement already satisfied: certifi>=14.05.14 in c:\\users\\sophi\\.conda\\envs\\ai4beg\\lib\\site-packages (from kaggle) (2025.8.3)\n",
      "Requirement already satisfied: charset-normalizer in c:\\users\\sophi\\.conda\\envs\\ai4beg\\lib\\site-packages (from kaggle) (3.3.2)\n",
      "Requirement already satisfied: idna in c:\\users\\sophi\\.conda\\envs\\ai4beg\\lib\\site-packages (from kaggle) (3.7)\n",
      "Requirement already satisfied: protobuf in c:\\users\\sophi\\.conda\\envs\\ai4beg\\lib\\site-packages (from kaggle) (4.25.8)\n",
      "Requirement already satisfied: python-dateutil>=2.5.3 in c:\\users\\sophi\\.conda\\envs\\ai4beg\\lib\\site-packages (from kaggle) (2.9.0.post0)\n",
      "Collecting python-slugify (from kaggle)\n",
      "  Downloading python_slugify-8.0.4-py2.py3-none-any.whl.metadata (8.5 kB)\n",
      "Requirement already satisfied: requests in c:\\users\\sophi\\.conda\\envs\\ai4beg\\lib\\site-packages (from kaggle) (2.32.4)\n",
      "Requirement already satisfied: setuptools>=21.0.0 in c:\\users\\sophi\\.conda\\envs\\ai4beg\\lib\\site-packages (from kaggle) (78.1.1)\n",
      "Requirement already satisfied: six>=1.10 in c:\\users\\sophi\\.conda\\envs\\ai4beg\\lib\\site-packages (from kaggle) (1.17.0)\n",
      "Collecting text-unidecode (from kaggle)\n",
      "  Downloading text_unidecode-1.3-py2.py3-none-any.whl.metadata (2.4 kB)\n",
      "Requirement already satisfied: tqdm in c:\\users\\sophi\\.conda\\envs\\ai4beg\\lib\\site-packages (from kaggle) (4.66.5)\n",
      "Requirement already satisfied: urllib3>=1.15.1 in c:\\users\\sophi\\.conda\\envs\\ai4beg\\lib\\site-packages (from kaggle) (2.5.0)\n",
      "Requirement already satisfied: webencodings in c:\\users\\sophi\\.conda\\envs\\ai4beg\\lib\\site-packages (from kaggle) (0.5.1)\n",
      "Requirement already satisfied: colorama in c:\\users\\sophi\\.conda\\envs\\ai4beg\\lib\\site-packages (from tqdm->kaggle) (0.4.6)\n",
      "Downloading kaggle-1.7.4.5-py3-none-any.whl (181 kB)\n",
      "Downloading python_slugify-8.0.4-py2.py3-none-any.whl (10 kB)\n",
      "Downloading text_unidecode-1.3-py2.py3-none-any.whl (78 kB)\n",
      "Installing collected packages: text-unidecode, python-slugify, kaggle\n",
      "\n",
      "   -------------------------- ------------- 2/3 [kaggle]\n",
      "   -------------------------- ------------- 2/3 [kaggle]\n",
      "   ---------------------------------------- 3/3 [kaggle]\n",
      "\n",
      "Successfully installed kaggle-1.7.4.5 python-slugify-8.0.4 text-unidecode-1.3\n",
      "Note: you may need to restart the kernel to use updated packages.\n"
     ]
    }
   ],
   "source": [
    "pip install kaggle"
   ]
  },
  {
   "cell_type": "code",
   "execution_count": 1,
   "metadata": {},
   "outputs": [
    {
     "name": "stdout",
     "output_type": "stream",
     "text": [
      "Dataset URL: https://www.kaggle.com/datasets/tanlikesmath/the-oxfordiiit-pet-dataset\n",
      "License(s): CC-BY-SA-4.0\n",
      "Downloading the-oxfordiiit-pet-dataset.zip to petfaces\n",
      "\n"
     ]
    },
    {
     "name": "stderr",
     "output_type": "stream",
     "text": [
      "\n",
      "  0%|          | 0.00/1.48G [00:00<?, ?B/s]\n",
      "  6%|▋         | 98.0M/1.48G [00:00<00:01, 1.02GB/s]\n",
      " 14%|█▍        | 218M/1.48G [00:00<00:01, 1.16GB/s] \n",
      " 22%|██▏       | 336M/1.48G [00:00<00:01, 1.19GB/s]\n",
      " 30%|██▉       | 450M/1.48G [00:00<00:00, 1.19GB/s]\n",
      " 38%|███▊      | 570M/1.48G [00:00<00:00, 1.21GB/s]\n",
      " 45%|████▌     | 686M/1.48G [00:01<00:01, 511MB/s] \n",
      " 54%|█████▎    | 809M/1.48G [00:01<00:01, 641MB/s]\n",
      " 60%|█████▉    | 906M/1.48G [00:01<00:00, 659MB/s]\n",
      " 66%|██████▌   | 994M/1.48G [00:01<00:00, 702MB/s]\n",
      " 71%|███████▏  | 1.05G/1.48G [00:01<00:00, 705MB/s]\n",
      " 77%|███████▋  | 1.14G/1.48G [00:01<00:00, 760MB/s]\n",
      " 83%|████████▎ | 1.23G/1.48G [00:01<00:00, 792MB/s]\n",
      " 89%|████████▊ | 1.31G/1.48G [00:01<00:00, 764MB/s]\n",
      " 94%|█████████▍| 1.39G/1.48G [00:01<00:00, 731MB/s]\n",
      " 99%|█████████▉| 1.46G/1.48G [00:02<00:00, 746MB/s]\n",
      "100%|██████████| 1.48G/1.48G [00:02<00:00, 760MB/s]\n"
     ]
    }
   ],
   "source": [
    "# !wget https://mslearntensorflowlp.blob.core.windows.net/data/petfaces.tar.gz\n",
    "# !tar xfz petfaces.tar.gz\n",
    "# !rm petfaces.tar.gz\n",
    "\n",
    "!kaggle datasets download tanlikesmath/the-oxfordiiit-pet-dataset -p petfaces --unzip\n"
   ]
  },
  {
   "cell_type": "markdown",
   "metadata": {},
   "source": [
    "We will define generic function to display a series of images from a list:"
   ]
  },
  {
   "cell_type": "code",
   "execution_count": null,
   "metadata": {},
   "outputs": [
    {
     "name": "stdout",
     "output_type": "stream",
     "text": [
      "Cleanup complete! Your 'petfaces/' folder is now organized.\n"
     ]
    }
   ],
   "source": [
    "import os\n",
    "import shutil\n",
    "\n",
    "base_dir = 'petfaces'\n",
    "temp_dir = 'temp_petfaces'  # temp folder to move images into cleanly\n",
    "\n",
    "# Step 0: Make sure temp_dir exists\n",
    "if not os.path.exists(temp_dir):\n",
    "    os.makedirs(temp_dir)\n",
    "\n",
    "# Step 1: Walk through all files under petfaces, collect all images and mats\n",
    "for root, dirs, files in os.walk(base_dir):\n",
    "    for f in files:\n",
    "        # Full file path\n",
    "        full_path = os.path.join(root, f)\n",
    "        \n",
    "        # Ignore files in temp_dir if it somehow is inside base_dir\n",
    "        if temp_dir in full_path:\n",
    "            continue\n",
    "        \n",
    "        # Move .mat files directly under base_dir (if not already)\n",
    "        if f.endswith('.mat'):\n",
    "            dest = os.path.join(base_dir, f)\n",
    "            if full_path != dest:\n",
    "                shutil.move(full_path, dest)\n",
    "        \n",
    "        # For image files\n",
    "        elif f.endswith(('.jpg', '.jpeg', '.png')):\n",
    "            # Breed name is first part before '_'\n",
    "            breed_name = f.split('_')[0]\n",
    "            \n",
    "            # Create breed folder inside temp_dir\n",
    "            breed_folder = os.path.join(temp_dir, breed_name)\n",
    "            if not os.path.exists(breed_folder):\n",
    "                os.makedirs(breed_folder)\n",
    "            \n",
    "            # Move image file to breed_folder in temp_dir\n",
    "            dest = os.path.join(breed_folder, f)\n",
    "            \n",
    "            # Only move if source and dest differ (avoid overwriting)\n",
    "            if full_path != dest:\n",
    "                shutil.move(full_path, dest)\n",
    "\n",
    "# Step 2: Delete all old empty directories inside petfaces (except base_dir and temp_dir)\n",
    "for root, dirs, files in os.walk(base_dir, topdown=False):\n",
    "    if root == base_dir:\n",
    "        continue\n",
    "    if root == temp_dir or temp_dir in root:\n",
    "        continue\n",
    "    if not os.listdir(root):\n",
    "        os.rmdir(root)\n",
    "\n",
    "# Step 3: Now move all breed folders from temp_dir back into petfaces\n",
    "for breed_folder in os.listdir(temp_dir):\n",
    "    src = os.path.join(temp_dir, breed_folder)\n",
    "    dest = os.path.join(base_dir, breed_folder)\n",
    "    \n",
    "    if not os.path.exists(dest):\n",
    "        shutil.move(src, dest)\n",
    "    else:\n",
    "        # If folder exists, move contents individually\n",
    "        for f in os.listdir(src):\n",
    "            shutil.move(os.path.join(src, f), os.path.join(dest, f))\n",
    "        os.rmdir(src)\n",
    "\n",
    "# Step 4: Remove temp_dir\n",
    "if os.path.exists(temp_dir):\n",
    "    os.rmdir(temp_dir)\n"
   ]
  },
  {
   "cell_type": "code",
   "execution_count": 147,
   "metadata": {},
   "outputs": [],
   "source": [
    "import matplotlib.pyplot as plt\n",
    "import os\n",
    "from PIL import Image\n",
    "import numpy as np\n",
    "\n",
    "def display_images(l,titles=None,fontsize=12):\n",
    "    n=len(l)\n",
    "    fig,ax = plt.subplots(1,n)\n",
    "    for i,im in enumerate(l):\n",
    "        ax[i].imshow(im)\n",
    "        ax[i].axis('off')\n",
    "        if titles is not None:\n",
    "            ax[i].set_title(titles[i],fontsize=fontsize)\n",
    "    fig.set_size_inches(fig.get_size_inches()*n)\n",
    "    plt.tight_layout()\n",
    "    plt.show()"
   ]
  },
  {
   "cell_type": "markdown",
   "metadata": {},
   "source": [
    "Now let's traverse all class subdirectories and plot first few images of each class:"
   ]
  },
  {
   "cell_type": "code",
   "execution_count": 182,
   "metadata": {},
   "outputs": [],
   "source": [
    "# for cls in os.listdir('petfaces'):\n",
    "#     print(cls)\n",
    "#     display_images([Image.open(os.path.join('petfaces',cls,x)) \n",
    "#                     for x in os.listdir(os.path.join('petfaces',cls))[:10]])"
   ]
  },
  {
   "cell_type": "markdown",
   "metadata": {},
   "source": [
    "Let's also define the number of classes in our dataset:"
   ]
  },
  {
   "cell_type": "code",
   "execution_count": 141,
   "metadata": {},
   "outputs": [
    {
     "data": {
      "text/plain": [
       "35"
      ]
     },
     "execution_count": 141,
     "metadata": {},
     "output_type": "execute_result"
    }
   ],
   "source": [
    "num_classes = len(os.listdir('petfaces'))\n",
    "num_classes"
   ]
  },
  {
   "cell_type": "markdown",
   "metadata": {},
   "source": [
    "## Preparing dataset for Deep Learning\n",
    "\n",
    "To start training our neural network, we need to convert all images to tensors, and also create tensors corresponding to labels (class numbers). Most neural network frameworks contain simple tools for dealing with images:\n",
    "* In Tensorflow, use `tf.keras.preprocessing.image_dataset_from_directory`\n",
    "* In PyTorch, use `torchvision.datasets.ImageFolder`\n",
    "\n",
    "As you have seen from the pictures above, all of them are close to square image ratio, so we need to resize all images to square size. Also, we can organize images in minibatches."
   ]
  },
  {
   "cell_type": "code",
   "execution_count": 183,
   "metadata": {},
   "outputs": [],
   "source": [
    "# CODE TO LOAD DATASET\n",
    "import torch\n",
    "from torchvision import datasets, transforms\n",
    "from torch.utils.data import DataLoader"
   ]
  },
  {
   "cell_type": "code",
   "execution_count": null,
   "metadata": {},
   "outputs": [
    {
     "name": "stdout",
     "output_type": "stream",
     "text": [
      "torch.Size([32, 3, 128, 128])\n",
      "torch.Size([32])\n",
      "Mean: tensor([0.4811, 0.4492, 0.3957])\n",
      "Std: tensor([0.2225, 0.2197, 0.2214])\n"
     ]
    }
   ],
   "source": [
    "# load dataset\n",
    "transform = transforms.Compose([\n",
    "    transforms.Resize((128, 128)),\n",
    "    transforms.ToTensor() \n",
    "])\n",
    "dataset = datasets.ImageFolder('petfaces', transform=transform)\n",
    "\n",
    "# dataloader to create minibatches & shuffle\n",
    "dataloader = DataLoader(dataset, batch_size=32, shuffle=True)\n",
    "\n",
    "# check batch shapes\n",
    "images, labels = next(iter(dataloader))\n",
    "print(images.shape) # should be [batch_size, 3, 128, 128]\n",
    "print(labels.shape) # should be [batch_size]\n",
    "\n",
    "mean = 0.\n",
    "std = 0.\n",
    "total_images = 0\n",
    "\n",
    "for images, _ in dataloader:\n",
    "    # images.shape = (batch_size, channels, height, width)\n",
    "    batch_samples = images.size(0)\n",
    "    images = images.view(batch_samples, images.size(1), -1)  # flatten H and W\n",
    "    mean += images.mean(2).sum(0)\n",
    "    std += images.std(2).sum(0)\n",
    "    total_images += batch_samples\n",
    "\n",
    "mean /= total_images\n",
    "std /= total_images\n",
    "\n",
    "print(\"Mean:\", mean)\n",
    "print(\"Std:\", std)"
   ]
  },
  {
   "cell_type": "code",
   "execution_count": null,
   "metadata": {},
   "outputs": [],
   "source": [
    "transform = transforms.Compose([\n",
    "    transforms.Resize((128, 128)),\n",
    "    transforms.RandomHorizontalFlip(),\n",
    "    transforms.ToTensor(), \n",
    "    transforms.Normalize(mean, std) \n",
    "])\n",
    "\n",
    "# load dataset\n",
    "dataset = datasets.ImageFolder('petfaces', transform=transform)\n",
    "\n",
    "# dataloader to create minibatches & shuffle\n",
    "dataloader = DataLoader(dataset, batch_size=32, shuffle=True)"
   ]
  },
  {
   "cell_type": "markdown",
   "metadata": {},
   "source": [
    "Now we need to separate dataset into train and test portions:"
   ]
  },
  {
   "cell_type": "code",
   "execution_count": 169,
   "metadata": {},
   "outputs": [
    {
     "name": "stdout",
     "output_type": "stream",
     "text": [
      "5912 1478\n",
      "Training samples: 5912\n",
      "Testing samples: 1478\n"
     ]
    }
   ],
   "source": [
    "# CODE TO DO TRAIN/TEST SPLIT\n",
    "from torch.utils.data import random_split\n",
    "\n",
    "# 80% train, 20% test\n",
    "train_size = int(0.8 * len(dataset))\n",
    "test_size = len(dataset) - train_size\n",
    "print(train_size, test_size)\n",
    "\n",
    "# randomly split dataset\n",
    "train_dataset, test_dataset = random_split(dataset, [train_size, test_size])\n",
    "\n",
    "# dataloaders for batching & shuffling\n",
    "train_loader = DataLoader(train_dataset, batch_size=batch_size, shuffle=True)\n",
    "test_loader = DataLoader(test_dataset, batch_size=batch_size, shuffle=False)\n",
    "\n",
    "# check\n",
    "print(f\"Training samples: {len(train_dataset)}\")\n",
    "print(f\"Testing samples: {len(test_dataset)}\")"
   ]
  },
  {
   "cell_type": "markdown",
   "metadata": {},
   "source": [
    "Now let's print the size of tensors in our dataset. If you have done everything correctly, the size of training elements should be\n",
    " * `(batch_size,image_size,image_size,3)` for Tensorflow, `batch_size,3,image_size,image_size` for PyTorch\n",
    " * `batch_size` for Labels\n",
    " \n",
    " Labels should contain numbers of classes."
   ]
  },
  {
   "cell_type": "code",
   "execution_count": 184,
   "metadata": {},
   "outputs": [
    {
     "name": "stdout",
     "output_type": "stream",
     "text": [
      "Images shape: torch.Size([32, 3, 128, 128])\n",
      "Labels shape: torch.Size([32])\n"
     ]
    }
   ],
   "source": [
    "# Print tensor sizes\n",
    "images, labels = next(iter(train_loader))\n",
    "\n",
    "print(\"Images shape:\", images.shape)  # Expect: (batch_size, 3, image_size, image_size)\n",
    "print(\"Labels shape:\", labels.shape)  # Expect: (batch_size,)"
   ]
  },
  {
   "cell_type": "code",
   "execution_count": 185,
   "metadata": {},
   "outputs": [],
   "source": [
    "# Display the data\n",
    "import matplotlib.pyplot as plt\n",
    "import numpy as np\n",
    "\n",
    "# get one batch\n",
    "images, labels = next(iter(train_loader))\n",
    "\n",
    "# convert first 8 images from tensor to numpy with correct shape\n",
    "images_to_show = [img.permute(1, 2, 0).numpy() for img in images[:8]]\n",
    "\n",
    "# get class names\n",
    "titles = [dataset.classes[label] for label in labels[:8]]\n",
    "\n",
    "# display_images(images_to_show, titles)"
   ]
  },
  {
   "cell_type": "markdown",
   "metadata": {},
   "source": [
    "## Define a neural network\n",
    "\n",
    "For image classification, you should probably define a convolutional neural network with several layers. What to keep an eye for:\n",
    "* Keep in mind the pyramid architecture, i.e. number of filters should increase as you go deeper\n",
    "* Do not forget activation functions between layers (ReLU) and Max Pooling\n",
    "* Final classifier can be with or without hidden layers, but the number of output neurons should be equal to number of classes.\n",
    "\n",
    "An important thing is to get the activation function on the last layer + loss function right:\n",
    "* In Tensorflow, you can use `softmax` as the activation, and `sparse_categorical_crossentropy` as loss. The difference between sparse categorical cross-entropy and non-sparse one is that the former expects output as the number of class, and not as one-hot vector.\n",
    "* In PyTorch, you can have the final layer without activation function, and use `CrossEntropyLoss` loss function. This function applies softmax automatically. "
   ]
  },
  {
   "cell_type": "code",
   "execution_count": 186,
   "metadata": {},
   "outputs": [],
   "source": [
    "# CODE TO DEFINE NEURAL NETWORK\n",
    "import torch\n",
    "import torch.nn as nn\n",
    "import torch.nn.functional as F\n"
   ]
  },
  {
   "cell_type": "code",
   "execution_count": 175,
   "metadata": {},
   "outputs": [],
   "source": [
    "class NewPetNet(nn.Module):\n",
    "    def __init__(self, num_classes):\n",
    "        super(NewPetNet, self).__init__()\n",
    "        # padding preserves spatial dimensions after convolution => output width & height stay same as input\n",
    "            # helps keep deeper layers manageable\n",
    "        self.conv1 = nn.Conv2d(3, 16, kernel_size=3, padding=1) # 3 colors (inputs), 32 filters, 3x3 window size\n",
    "        # self.bn1 = nn.BatchNorm2d(32)\n",
    "\n",
    "        self.conv2 = nn.Conv2d(16, 32, kernel_size=3, padding=1)\n",
    "        # self.bn2 = nn.BatchNorm2d(64)\n",
    "\n",
    "        self.conv3 = nn.Conv2d(32, 64, kernel_size=3, padding=1)\n",
    "\n",
    "        self.pool = nn.MaxPool2d(2, 2) # 2x2 max pooling\n",
    "\n",
    "        # 128x128 images, 3 poolings (each halving spatial dimensions) => 128 -> 64 -> 32 (width & height)\n",
    "        self.fc1 = nn.Linear(64 * 16 * 16, 256)     # fully connected layer, used after flattening all the filtered features\n",
    "        self.fc2 = nn.Linear(256, num_classes)      # output layer\n",
    "\n",
    "        self.dropout = nn.Dropout(p=0.5)\n",
    "\n",
    "    def forward(self, x):\n",
    "        x = self.pool(F.relu(self.conv1(x)))    # conv1 + relu + maxpool\n",
    "        x = self.pool(F.relu(self.conv2(x)))    # conv2 + relu + maxpool\n",
    "        x = self.pool(F.relu(self.conv3(x)))\n",
    "\n",
    "        x = x.view(x.size(0), -1)               # flatten\n",
    "\n",
    "        x = F.relu(self.fc1(x))                 # FC + relu\n",
    "        x = self.dropout(x)\n",
    "        x = self.fc2(x)                         # output logits (no activation)\n",
    "\n",
    "        return x"
   ]
  },
  {
   "cell_type": "markdown",
   "metadata": {},
   "source": [
    "## Train the Neural Network\n",
    "\n",
    "Now we are ready to train the neural network. During training, please collect accuracy on train and test data on each epoch, and then plot the accuracy to see if there is overfitting.\n",
    "\n",
    "> To speed up training, you need to use GPU if available. While TensorFlow/Keras will automatically use GPU, in PyTorch you need to move both the model and data to GPU during training using `.to()` method in order to take advantage of GPU acceleration. \n"
   ]
  },
  {
   "cell_type": "code",
   "execution_count": 187,
   "metadata": {},
   "outputs": [
    {
     "name": "stdout",
     "output_type": "stream",
     "text": [
      "using device: cuda\n"
     ]
    }
   ],
   "source": [
    "# TRAIN THE NETWORK\n",
    "import torch.optim as optim\n",
    "\n",
    "device = torch.device('cuda' if torch.cuda.is_available() else 'cpu')\n",
    "print(f\"using device: {device}\")"
   ]
  },
  {
   "cell_type": "code",
   "execution_count": 188,
   "metadata": {},
   "outputs": [],
   "source": [
    "import collections\n",
    "# print(collections.Counter([label for _, label in train_loader.dataset]))\n",
    "\n",
    "class_counts = [\n",
    "    328, 314, 168, 167, 167, 164, 164, 164, 162, 155,\n",
    "    158, 161, 314, 157, 156, 163, 160, 328, 167, 161,\n",
    "    160, 152, 152, 158, 155, 164, 168, 155, 166, 167,\n",
    "    157, 154, 151, 150, 165\n",
    "]\n",
    "\n",
    "# Turn counts into weights (more weight for smaller classes)\n",
    "class_weights = 1.0 / torch.tensor(class_counts, dtype=torch.float)\n",
    "\n",
    "# Normalize so weights sum to number of classes (optional, for stability)\n",
    "class_weights = class_weights / class_weights.sum() * len(class_counts)\n",
    "\n",
    "# Move to same device as model\n",
    "class_weights = class_weights.to(device)"
   ]
  },
  {
   "cell_type": "code",
   "execution_count": 178,
   "metadata": {},
   "outputs": [
    {
     "name": "stdout",
     "output_type": "stream",
     "text": [
      "Epoch 1/10 - Train Acc: 0.0453, Test Acc: 0.0487\n",
      "Epoch 2/10 - Train Acc: 0.0726, Test Acc: 0.0961\n",
      "Epoch 3/10 - Train Acc: 0.1012, Test Acc: 0.1184\n",
      "Epoch 4/10 - Train Acc: 0.1242, Test Acc: 0.1387\n",
      "Epoch 5/10 - Train Acc: 0.1360, Test Acc: 0.1597\n",
      "Epoch 6/10 - Train Acc: 0.1578, Test Acc: 0.1617\n",
      "Epoch 7/10 - Train Acc: 0.1808, Test Acc: 0.1719\n",
      "Epoch 8/10 - Train Acc: 0.1854, Test Acc: 0.1820\n",
      "Epoch 9/10 - Train Acc: 0.2020, Test Acc: 0.1942\n",
      "Epoch 10/10 - Train Acc: 0.2231, Test Acc: 0.1942\n"
     ]
    }
   ],
   "source": [
    "model = NewPetNet(35).to(device)\n",
    "\n",
    "# loss function & optimizer\n",
    "loss_fn = nn.CrossEntropyLoss()\n",
    "criterion = nn.CrossEntropyLoss(weight=class_weights)\n",
    "optimizer = optim.Adam(model.parameters(), lr=0.0001)\n",
    "\n",
    "num_epochs = 10\n",
    "\n",
    "train_acc_history = []\n",
    "test_acc_history = []\n",
    "\n",
    "for epoch in range(num_epochs):\n",
    "    # training\n",
    "    model.train()\n",
    "    running_loss = 0.0\n",
    "    correct_train = 0\n",
    "    total_train = 0\n",
    "\n",
    "    for inputs,labels in train_loader: \n",
    "        inputs, labels = inputs.to(device), labels.to(device)\n",
    "\n",
    "        optimizer.zero_grad()\n",
    "        outputs = model(inputs)\n",
    "\n",
    "        loss = criterion(outputs, labels)\n",
    "        loss.backward()\n",
    "        optimizer.step()\n",
    "\n",
    "        running_loss += loss.item()\n",
    "        _, predicted = torch.max(outputs, 1) # finds max value along the dimension pertaining to class\n",
    "        total_train += labels.size(0)\n",
    "        correct_train += (predicted == labels).sum().item()\n",
    "    \n",
    "    train_acc = correct_train / total_train\n",
    "    train_acc_history.append(train_acc)\n",
    "\n",
    "    model.eval()\n",
    "    correct_test = 0\n",
    "    total_test = 0\n",
    "    with torch.no_grad():\n",
    "        for inputs,labels in test_loader:\n",
    "            inputs, labels = inputs.to(device), labels.to(device)\n",
    "            outputs = model(inputs)\n",
    "\n",
    "            loss = criterion(outputs, labels)\n",
    "            _, predicted = torch.max(outputs, 1) # finds max value along the dimension pertaining to class\n",
    "            total_test += labels.size(0)\n",
    "            correct_test += (predicted == labels).sum().item()\n",
    "\n",
    "    test_acc = correct_test / total_test\n",
    "    test_acc_history.append(test_acc)\n",
    "\n",
    "    print(f\"Epoch {epoch + 1}/{num_epochs} - Train Acc: {train_acc:.4f}, Test Acc: {test_acc:.4f}\")\n",
    "    "
   ]
  },
  {
   "cell_type": "code",
   "execution_count": 179,
   "metadata": {},
   "outputs": [
    {
     "data": {
      "image/png": "[encoded data removed]",
      "text/plain": [
       "<Figure size 640x480 with 1 Axes>"
      ]
     },
     "metadata": {},
     "output_type": "display_data"
    }
   ],
   "source": [
    "# PLOT THE ACCURACY on train and validation dataset\n",
    "# --- Plot accuracy curves ---\n",
    "plt.plot(range(1, num_epochs+1), train_acc_history, label='Train Accuracy')\n",
    "plt.plot(range(1, num_epochs+1), test_acc_history, label='Test Accuracy')\n",
    "plt.xlabel('Epoch')\n",
    "plt.ylabel('Accuracy')\n",
    "plt.legend()\n",
    "plt.title('Training and Test Accuracy')\n",
    "plt.show()"
   ]
  },
  {
   "cell_type": "markdown",
   "metadata": {},
   "source": [
    "What can you say about overfitting? What can be done to improve the accuracy of the model\n",
    "\n",
    "## Optional: Calculate Top3 Accuracy\n",
    "\n",
    "In this exercise, we were dealing with classification with quite high number of classes (35), so our result - around 50% validation accuracy - is pretty good. Standard ImageNet dataset has even more - 1000 classes.\n",
    "\n",
    "In such cases it is difficult to ensure that model **always** correctly predicts the class. There are cases when two breeds are very similar to each other, and the model returns very similar probablities (eg., 0.45 and 0.43). If we measure standard accuracy, it will be considered a wrong case, even though the model did very small mistake. This, we often measure another metric - an accuracy within top 3 most probable predictions of the model.\n",
    "\n",
    "We consider the case accurate if target label is contained within top 3 model predictions. \n",
    "\n",
    "To compute top-3 accuracy on the test dataset, you need to manually go over the dataset, apply the neural network to get the prediction, and then do the calculations. Some hints:\n",
    "\n",
    "* In Tensorflow, use `tf.nn.in_top_k` function to see if the `predictions` (output of the model) are in top-k (pass `k=3` as parameter), with respect to `targets`. This function returns a tensor of boolean values, which can be converted to `int` using `tf.cast`, and then accumulated using `tf.reduce_sum`.\n",
    "* In PyTorch, you can use `torch.topk` function to get indices of classes with highers probabilities, and then see if the correct class belongs to them. See [this](https://gist.github.com/weiaicunzai/2a5ae6eac6712c70bde0630f3e76b77b) for more hints.\n"
   ]
  },
  {
   "cell_type": "code",
   "execution_count": 181,
   "metadata": {},
   "outputs": [
    {
     "data": {
      "text/plain": [
       "0.4133964817320704"
      ]
     },
     "execution_count": 181,
     "metadata": {},
     "output_type": "execute_result"
    }
   ],
   "source": [
    "# CALCULATE TOP-3 ACCURACY\n",
    "\n",
    "def top_k_accuracy(model, dataloader, device, k=3):\n",
    "    model.eval()\n",
    "    correct, total = 0, 0\n",
    "\n",
    "    with torch.no_grad():\n",
    "        for inputs,labels in dataloader: \n",
    "            inputs, labels = inputs.to(device), labels.to(device)\n",
    "            outputs = model(inputs)\n",
    "\n",
    "            _, topk_indices = torch.topk(outputs, k, dim=1)\n",
    "\n",
    "            labels = labels.view(-1, 1)\n",
    "            correct += (topk_indices == labels).any(dim=1).sum().item()\n",
    "            total += labels.size(0)\n",
    "    \n",
    "    return correct / total\n",
    "\n",
    "top_k_accuracy(model, test_loader, device)"
   ]
  },
  {
   "cell_type": "markdown",
   "metadata": {},
   "source": [
    "## Optional: Build Cats vs. Dogs classification\n",
    "\n",
    "We also want to see how accurate our binary cats vs. dogs classification would be on the same dateset. To do it, we need to adjust labels:"
   ]
  },
  {
   "cell_type": "code",
   "execution_count": null,
   "metadata": {},
   "outputs": [],
   "source": [
    "# Define dataset that contains only two labels: 0 = cat, 1 = dog\n",
    "# Hint: use class name prefix to figure out which one is which"
   ]
  },
  {
   "cell_type": "code",
   "execution_count": null,
   "metadata": {},
   "outputs": [],
   "source": [
    "# Define neural network architecture and train"
   ]
  }
 ],
 "metadata": {
  "kernelspec": {
   "display_name": "ai4beg",
   "language": "python",
   "name": "python3"
  },
  "language_info": {
   "codemirror_mode": {
    "name": "ipython",
    "version": 3
   },
   "file_extension": ".py",
   "mimetype": "text/x-python",
   "name": "python",
   "nbconvert_exporter": "python",
   "pygments_lexer": "ipython3",
   "version": "3.12.11"
  }
 },
 "nbformat": 4,
 "nbformat_minor": 4
}
